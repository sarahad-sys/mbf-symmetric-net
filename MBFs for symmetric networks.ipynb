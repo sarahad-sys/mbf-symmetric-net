{
 "cells": [
  {
   "cell_type": "code",
   "execution_count": 2,
   "id": "fa489bed-02c5-450a-aa6e-a06c097a0c18",
   "metadata": {},
   "outputs": [
    {
     "name": "stdout",
     "output_type": "stream",
     "text": [
      "\n",
      "--- Processing for n = 2 ---\n",
      "\n",
      "--- Count of Zeros and Ones in Specified Rows ---\n",
      "Row (0, 0): {'zeros': 5, 'ones': 1}\n",
      "Row (1, 0): {'zeros': 3, 'ones': 3}\n",
      "Row (1, 1): {'zeros': 1, 'ones': 5}\n",
      "\n",
      "--- Processing for n = 3 ---\n",
      "\n",
      "--- Count of Zeros and Ones in Specified Rows ---\n",
      "Row (0, 0, 0): {'zeros': 19, 'ones': 1}\n",
      "Row (1, 0, 0): {'zeros': 14, 'ones': 6}\n",
      "Row (1, 1, 1): {'zeros': 1, 'ones': 19}\n",
      "Row (1, 1, 0): {'zeros': 6, 'ones': 14}\n",
      "\n",
      "--- Processing for n = 4 ---\n",
      "\n",
      "--- Count of Zeros and Ones in Specified Rows ---\n",
      "Row (0, 0, 0, 0): {'zeros': 167, 'ones': 1}\n",
      "Row (1, 0, 0, 0): {'zeros': 148, 'ones': 20}\n",
      "Row (1, 1, 0, 0): {'zeros': 84, 'ones': 84}\n",
      "Row (1, 1, 1, 0): {'zeros': 20, 'ones': 148}\n",
      "Row (1, 1, 1, 1): {'zeros': 1, 'ones': 167}\n"
     ]
    }
   ],
   "source": [
    "from itertools import product\n",
    "\n",
    "def generate_true_mbf(n):\n",
    "    inputs = list(product([0, 1], repeat=n))\n",
    "    all_functions = product([0, 1], repeat=len(inputs))\n",
    "    \n",
    "    # Filter for monotone functions\n",
    "    mbfs = []\n",
    "    for func in all_functions:\n",
    "        is_monotone = True\n",
    "        for i, input1 in enumerate(inputs):\n",
    "            for j, input2 in enumerate(inputs):\n",
    "                if all(x <= y for x, y in zip(input1, input2)) and func[i] > func[j]:\n",
    "                    is_monotone = False\n",
    "                    break\n",
    "            if not is_monotone:\n",
    "                break\n",
    "        if is_monotone:\n",
    "            mbfs.append(func)\n",
    "    \n",
    "    return inputs, mbfs\n",
    "\n",
    "def count_zeros_ones(mbfs, inputs, rows):\n",
    "    results = {}\n",
    "    for row in rows:\n",
    "        row_index = inputs.index(row)  \n",
    "        zero_count = sum(1 for mbf in mbfs if mbf[row_index] == 0)\n",
    "        one_count = sum(1 for mbf in mbfs if mbf[row_index] == 1)\n",
    "        results[row] = {\"zeros\": zero_count, \"ones\": one_count}\n",
    "    return results\n",
    "\n",
    "# Run for n = 2, 3, 4\n",
    "for n in [2, 3, 4]:\n",
    "    print(f\"\\n--- Processing for n = {n} ---\")\n",
    "    inputs, mbfs = generate_true_mbf(n)\n",
    "    \n",
    "    if n == 2:\n",
    "        rows_to_analyze = [(0, 0), (1, 0), (1, 1)]\n",
    "    elif n == 3:\n",
    "        rows_to_analyze = [(0, 0, 0), (1, 0, 0), (1, 1, 1), (1, 1, 0)]\n",
    "    elif n == 4:\n",
    "        rows_to_analyze = [(0, 0, 0, 0), (1, 0, 0, 0), (1, 1, 0, 0), (1, 1, 1, 0), (1, 1, 1, 1)]\n",
    "    \n",
    "    counts = count_zeros_ones(mbfs, inputs, rows_to_analyze)\n",
    "    \n",
    "   \n",
    "    print(\"\\n--- Count of Zeros and Ones in Specified Rows ---\")\n",
    "    for row, count in counts.items():\n",
    "        print(f\"Row {row}: {count}\")"
   ]
  },
  {
   "cell_type": "code",
   "execution_count": null,
   "id": "af134281-34ef-46f1-ba36-2a10497d5e94",
   "metadata": {},
   "outputs": [],
   "source": []
  }
 ],
 "metadata": {
  "kernelspec": {
   "display_name": "Python 3 (ipykernel)",
   "language": "python",
   "name": "python3"
  },
  "language_info": {
   "codemirror_mode": {
    "name": "ipython",
    "version": 3
   },
   "file_extension": ".py",
   "mimetype": "text/x-python",
   "name": "python",
   "nbconvert_exporter": "python",
   "pygments_lexer": "ipython3",
   "version": "3.11.7"
  }
 },
 "nbformat": 4,
 "nbformat_minor": 5
}
